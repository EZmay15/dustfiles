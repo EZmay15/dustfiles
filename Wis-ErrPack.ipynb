{
 "cells": [
  {
   "cell_type": "code",
   "execution_count": 10,
   "metadata": {
    "collapsed": false
   },
   "outputs": [],
   "source": [
    "def ErrMsg( MESSAG, FATAL ):\n",
    "    \n",
    "    \"\"\"\n",
    "c Print out a warning or error message; abort if error \n",
    "c after making symbolic dump (machine-specific)\n",
    "\n",
    "c     .. Scalar Arguments ..\n",
    "\n",
    "      CHARACTER MESSAG*(*)\n",
    "      LOGICAL   FATAL\n",
    "c     ..\n",
    "c     .. Local Scalars ..\n",
    "\n",
    "      LOGICAL   MSGLIM\n",
    "      INTEGER   MAXMSG, NUMMSG\n",
    "c     ..\n",
    "c     .. External Subroutines ..\n",
    "\n",
    "ccccc EXTERNAL  SYMDUMP\n",
    "c     ..\n",
    "      SAVE      MAXMSG, NUMMSG, MSGLIM\n",
    "      DATA      NUMMSG / 0 /,  MAXMSG / 100 /,  MSGLIM /.FALSE./\n",
    "    \"\"\"\n",
    "    \n",
    "    NUMMSG = 0  \n",
    "    MAXMSG = 100 \n",
    "    MSGLIM = False\n",
    "\n",
    "    if FATAL :\n",
    "        print '******ERROR***** ', MESSAG\n",
    "        \n",
    "#Example symbolic dump call for Cray\n",
    "#CALL SYMDUMP( '-B -c3' )\n",
    "    \n",
    "    NUMMSG = NUMMSG + 1\n",
    "    \n",
    "    if MSGLIM : \n",
    "        return\n",
    "    \n",
    "    if NUMMSG <= MAXMSG :\n",
    "        print '******WARNING***** ', MESSAG    \n",
    "    else :\n",
    "        print '****** TOO MANY WARNING MESSAGES -- They will no longer be printed *******'\n",
    "        MSGLIM = True"
   ]
  },
  {
   "cell_type": "code",
   "execution_count": 11,
   "metadata": {
    "collapsed": true
   },
   "outputs": [],
   "source": [
    "def WrtBad( VarNam ):\n",
    "    \n",
    "    \"\"\"\n",
    "c Write names of erroneous variables and return 'TRUE'\n",
    "c INPUT : VarNam = Name of erroneous variable to be written (CHARACTER, any length)\n",
    "\n",
    "c     .. Scalar Arguments ..\n",
    "\n",
    "      CHARACTER VarNam*(*)\n",
    "c     ..\n",
    "c     .. Local Scalars ..\n",
    "\n",
    "      INTEGER   MAXMSG, NUMMSG\n",
    "c     ..\n",
    "c     .. External Subroutines ..\n",
    "\n",
    "      EXTERNAL  ErrMsg\n",
    "c     ..\n",
    "      SAVE      NUMMSG, MAXMSG\n",
    "      DATA      NUMMSG / 0 /, MAXMSG / 50 /\n",
    "    \"\"\"\n",
    "\n",
    "    NUMMSG = 0 \n",
    "    MAXMSG = 50 \n",
    "\n",
    "    NUMMSG = NUMMSG + 1\n",
    "    print '**** Input variable ', VarNam, ' in error  ****'\n",
    "    return True\n",
    "\n",
    "    if NUMMSG == MAXMSG :\n",
    "        ErrMsg('Too many input errors. Aborting...', True)"
   ]
  },
  {
   "cell_type": "code",
   "execution_count": 12,
   "metadata": {
    "collapsed": true
   },
   "outputs": [],
   "source": [
    "def WrtDim( DimNam, Minval ): \n",
    "    \n",
    "    \"\"\"\n",
    "c Write name of too-small symbolic dimension and \n",
    "c the value it should be increased to; return 'TRUE'\n",
    "\n",
    "c INPUT: DimNam = string; Name of symbolic dimension which is too small (CHARACTER, any length)\n",
    "c        Minval = int; Value to which that dimension should be increased (at least)\n",
    "\n",
    "c     .. Scalar Arguments ..\n",
    "\n",
    "      CHARACTER DimNam*(*)\n",
    "      INTEGER   Minval\n",
    "c     ..\n",
    "    \"\"\"\n",
    "    \n",
    "    print '**** Symbolic dimension ', DimNam, ' should be increased to at least ', Minval\n",
    "    return True"
   ]
  },
  {
   "cell_type": "code",
   "execution_count": 13,
   "metadata": {
    "collapsed": false
   },
   "outputs": [],
   "source": [
    "def TstBad( VarNam, RelErr ):\n",
    "\n",
    "    \"\"\"\n",
    "c Write name (VarNam) of variable failing self-test and its\n",
    "c percent error from the correct value;  return  'FALSE'.\n",
    "\n",
    "c     .. Scalar Arguments ..\n",
    "\n",
    "      CHARACTER VarNam*(*)\n",
    "      REAL      RelErr\n",
    "c     ..\n",
    "    \"\"\"\n",
    "    \n",
    "    print '*** Output variable ', VarNam, ' differed by ', RelErr, \n",
    "    ' percent from correct value.  Self-test failed.'\n",
    "    return False"
   ]
  }
 ],
 "metadata": {
  "kernelspec": {
   "display_name": "Python 2",
   "language": "python",
   "name": "python2"
  },
  "language_info": {
   "codemirror_mode": {
    "name": "ipython",
    "version": 2
   },
   "file_extension": ".py",
   "mimetype": "text/x-python",
   "name": "python",
   "nbconvert_exporter": "python",
   "pygments_lexer": "ipython2",
   "version": "2.7.10"
  }
 },
 "nbformat": 4,
 "nbformat_minor": 0
}
