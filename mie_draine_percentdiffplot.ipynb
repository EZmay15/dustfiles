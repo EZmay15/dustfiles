{
 "cells": [
  {
   "cell_type": "code",
   "execution_count": 2,
   "metadata": {
    "collapsed": false
   },
   "outputs": [],
   "source": [
    "import dust\n",
    "import numpy as np\n",
    "import matplotlib.pyplot as plt\n",
    "import matplotlib\n",
    "from astropy.io import ascii\n",
    "from pylab import ylim\n",
    "\n",
    "font = {'size'   : 15}\n",
    "matplotlib.rc('font', **font)"
   ]
  },
  {
   "cell_type": "code",
   "execution_count": 3,
   "metadata": {
    "collapsed": false
   },
   "outputs": [
    {
     "ename": "ImportError",
     "evalue": "No module named scatmodels",
     "output_type": "error",
     "traceback": [
      "\u001b[0;31m---------------------------------------------------------------------------\u001b[0m",
      "\u001b[0;31mImportError\u001b[0m                               Traceback (most recent call last)",
      "\u001b[0;32m<ipython-input-3-05a6de08b401>\u001b[0m in \u001b[0;36m<module>\u001b[0;34m()\u001b[0m\n\u001b[0;32m----> 1\u001b[0;31m \u001b[0;32mimport\u001b[0m \u001b[0mscatmodels\u001b[0m \u001b[0;32mas\u001b[0m \u001b[0msm\u001b[0m\u001b[0;34m\u001b[0m\u001b[0m\n\u001b[0m\u001b[1;32m      2\u001b[0m \u001b[0;32mimport\u001b[0m \u001b[0mcmindex\u001b[0m \u001b[0;32mas\u001b[0m \u001b[0mcm\u001b[0m\u001b[0;34m\u001b[0m\u001b[0m\n\u001b[1;32m      3\u001b[0m \u001b[0;32mimport\u001b[0m \u001b[0mconstants\u001b[0m \u001b[0;32mas\u001b[0m \u001b[0mc\u001b[0m\u001b[0;34m\u001b[0m\u001b[0m\n",
      "\u001b[0;31mImportError\u001b[0m: No module named scatmodels"
     ]
    }
   ],
   "source": [
    "import scatmodels as sm\n",
    "import cmindex as cm\n",
    "import constants as c"
   ]
  },
  {
   "cell_type": "code",
   "execution_count": null,
   "metadata": {
    "collapsed": false
   },
   "outputs": [],
   "source": [
    "mie_model = sm.Mie()"
   ]
  },
  {
   "cell_type": "code",
   "execution_count": null,
   "metadata": {
    "collapsed": false
   },
   "outputs": [],
   "source": [
    "GRAIN_RAD = 0.5\n",
    "tabl = ascii.read(\"graphite0.5\")"
   ]
  },
  {
   "cell_type": "code",
   "execution_count": null,
   "metadata": {
    "collapsed": false,
    "scrolled": true
   },
   "outputs": [],
   "source": [
    "WAVEL_UVOPT  = tabl[\"w(micron)\"] # um, Draine's wavelengths\n",
    "ENERGY_UVOPT = c.kev2lam() / (WAVEL_UVOPT * 1.e-4) # keV\n",
    "\n",
    "HIGH_ENERGY  = np.linspace(0.1, 20.0, 30) # keV, 30 values between 0.1 and 20 keV "
   ]
  },
  {
   "cell_type": "markdown",
   "metadata": {},
   "source": [
    "Show efficiencies for UV/Optical wavelengths"
   ]
  },
  {
   "cell_type": "code",
   "execution_count": null,
   "metadata": {
    "collapsed": false
   },
   "outputs": [],
   "source": [
    "qext_uvopt_gra = mie_model.Qext( E=ENERGY_UVOPT, a=GRAIN_RAD, cm=cm.CmGraphite() )\n",
    "qsca_uvopt_gra = mie_model.Qsca( E=ENERGY_UVOPT, a=GRAIN_RAD, cm=cm.CmGraphite() )"
   ]
  },
  {
   "cell_type": "code",
   "execution_count": null,
   "metadata": {
    "collapsed": false
   },
   "outputs": [],
   "source": [
    "#plt.plot( WAVEL_UVOPT, qext_uvopt_gra, 'b-', label='Q_ext - Mie' )\n",
    "#plt.plot( WAVEL_UVOPT, qsca_uvopt_gra, 'r-', label='Q_sca - Mie' ) \n",
    "#plt.plot( WAVEL_UVOPT, tabl[\"Q_abs\"] + tabl[\"Q_sca\"], \"g-\", label=\"Q_ext - Draine\")\n",
    "#plt.plot( WAVEL_UVOPT, tabl[\"Q_sca\"], \"y-\", label=\"Q_sca - Draine\")\n",
    "\n",
    "#plt.loglog()\n",
    "#plt.xlabel('Wavelength [um]')\n",
    "#plt.ylabel('Q')\n",
    "#plt.legend(loc='lower left')\n",
    "#plt.figure(figsize=(20,10))\n",
    "#plt.show()"
   ]
  },
  {
   "cell_type": "code",
   "execution_count": null,
   "metadata": {
    "collapsed": false
   },
   "outputs": [],
   "source": [
    "#For extinction and scattering in all the uv_opt plots, create graphs that \n",
    "#quantify the difference between the two models:\n",
    "\n",
    "#Percent difference = ( (Qext,Mie - Qext,Draine) / Qext,Draine ) x 100\n",
    "\n",
    "qext_percent_diff = []\n",
    "for i in range(len(tabl[\"w(micron)\"])):\n",
    "    value = ((qext_uvopt_gra[i] - (tabl[\"Q_abs\"][i] + tabl[\"Q_sca\"][i]))/\n",
    "            (tabl[\"Q_abs\"][i] + tabl[\"Q_sca\"][i])) * 100\n",
    "    qext_percent_diff.append(abs(value))\n",
    "    \n",
    "qsca_percent_diff = []\n",
    "for i in range(len(tabl[\"w(micron)\"])):\n",
    "    value = ((qsca_uvopt_gra[i] - (tabl[\"Q_sca\"][i]))/\n",
    "            (tabl[\"Q_sca\"][i])) * 100\n",
    "    qsca_percent_diff.append(abs(value))\n",
    "\n",
    "plt.plot( WAVEL_UVOPT, qext_percent_diff, 'b-', label = 'Q_ext')\n",
    "plt.plot( WAVEL_UVOPT, qsca_percent_diff, 'r-', label = 'Q_sca')\n",
    "\n",
    "plt.semilogx()\n",
    "pylab.ylim([-10,100])\n",
    "plt.xlabel('Wavelength [um]')\n",
    "plt.ylabel('Difference [%]')\n",
    "plt.legend(loc='upper center')\n",
    "plt.show()"
   ]
  },
  {
   "cell_type": "markdown",
   "metadata": {},
   "source": [
    "Now do the high energy"
   ]
  },
  {
   "cell_type": "code",
   "execution_count": null,
   "metadata": {
    "collapsed": false
   },
   "outputs": [],
   "source": [
    "qext_high_sil = mie_model.Qext( E=HIGH_ENERGY, a=GRAIN_RAD, cm=cm.CmSilicate() )\n",
    "qsca_high_sil = mie_model.Qsca( E=HIGH_ENERGY, a=GRAIN_RAD, cm=cm.CmSilicate() )"
   ]
  },
  {
   "cell_type": "code",
   "execution_count": null,
   "metadata": {
    "collapsed": false
   },
   "outputs": [],
   "source": [
    "plt.plot( HIGH_ENERGY, qext_high_sil, 'b-', label='Q_ext - Mie' )\n",
    "plt.plot( HIGH_ENERGY, qsca_high_sil, 'r-', label='Q_sca - Mie' )\n",
    "\n",
    "plt.loglog()\n",
    "plt.xlabel('Energy [keV]')\n",
    "plt.ylabel('Q')\n",
    "plt.legend(loc='lower left')\n",
    "\n",
    "plt.show()"
   ]
  },
  {
   "cell_type": "markdown",
   "metadata": {},
   "source": [
    "## What's up with Drude approximation?\n",
    "\n",
    "Let's peek at the **real part** (responsible for scattering) and the **imaginary part** (responsible for absorption) of the **complex index of refraction** to find out."
   ]
  },
  {
   "cell_type": "code",
   "execution_count": null,
   "metadata": {
    "collapsed": false
   },
   "outputs": [],
   "source": [
    "drude = cm.CmDrude()"
   ]
  },
  {
   "cell_type": "code",
   "execution_count": null,
   "metadata": {
    "collapsed": false
   },
   "outputs": [],
   "source": [
    "plt.plot( ENERGY_UVOPT, drude.rp(ENERGY_UVOPT), 'r-', label='Real part' )\n",
    "plt.plot( HIGH_ENERGY, drude.rp(HIGH_ENERGY), 'r-', label='' )\n",
    "\n",
    "plt.plot( ENERGY_UVOPT, drude.ip(ENERGY_UVOPT)+1.0, 'b-', label='Imaginary part + 1.0' )\n",
    "plt.plot( HIGH_ENERGY, drude.ip(HIGH_ENERGY)+1.0, 'b-', label='' )\n",
    "\n",
    "plt.loglog()\n",
    "plt.ylim(0.1, 1.e5)\n",
    "plt.xlabel('Energy [keV]')"
   ]
  },
  {
   "cell_type": "markdown",
   "metadata": {},
   "source": [
    "Since the Drude approximation is for **scattering only**, the imaginary part is zero. (That's why the blue line, which is imaginary part plus one, is a flat line at $10^0 = 1.0$)"
   ]
  },
  {
   "cell_type": "code",
   "execution_count": null,
   "metadata": {
    "collapsed": false
   },
   "outputs": [],
   "source": [
    "print drude.ip(HIGH_ENERGY)"
   ]
  }
 ],
 "metadata": {
  "kernelspec": {
   "display_name": "Python 2",
   "language": "python",
   "name": "python2"
  },
  "language_info": {
   "codemirror_mode": {
    "name": "ipython",
    "version": 2
   },
   "file_extension": ".py",
   "mimetype": "text/x-python",
   "name": "python",
   "nbconvert_exporter": "python",
   "pygments_lexer": "ipython2",
   "version": "2.7.10"
  }
 },
 "nbformat": 4,
 "nbformat_minor": 0
}
