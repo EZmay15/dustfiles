{
 "cells": [
  {
   "cell_type": "code",
   "execution_count": 1,
   "metadata": {
    "collapsed": false
   },
   "outputs": [
    {
     "ename": "ImportError",
     "evalue": "No module named dust",
     "output_type": "error",
     "traceback": [
      "\u001b[0;31m---------------------------------------------------------------------------\u001b[0m",
      "\u001b[0;31mImportError\u001b[0m                               Traceback (most recent call last)",
      "\u001b[0;32m<ipython-input-1-6f7cc8678ecb>\u001b[0m in \u001b[0;36m<module>\u001b[0;34m()\u001b[0m\n\u001b[1;32m      1\u001b[0m \u001b[0mget_ipython\u001b[0m\u001b[0;34m(\u001b[0m\u001b[0;34m)\u001b[0m\u001b[0;34m.\u001b[0m\u001b[0mmagic\u001b[0m\u001b[0;34m(\u001b[0m\u001b[0;34mu'matplotlib inline'\u001b[0m\u001b[0;34m)\u001b[0m\u001b[0;34m\u001b[0m\u001b[0m\n\u001b[0;32m----> 2\u001b[0;31m \u001b[0;32mimport\u001b[0m \u001b[0mdust\u001b[0m\u001b[0;34m\u001b[0m\u001b[0m\n\u001b[0m\u001b[1;32m      3\u001b[0m \u001b[0;32mfrom\u001b[0m \u001b[0mscatmodels\u001b[0m \u001b[0;32mimport\u001b[0m \u001b[0;34m*\u001b[0m\u001b[0;34m\u001b[0m\u001b[0m\n\u001b[1;32m      4\u001b[0m \u001b[0;32mfrom\u001b[0m \u001b[0mcmindex\u001b[0m \u001b[0;32mimport\u001b[0m \u001b[0;34m*\u001b[0m\u001b[0;34m\u001b[0m\u001b[0m\n\u001b[1;32m      5\u001b[0m \u001b[0;32mimport\u001b[0m \u001b[0mmatplotlib\u001b[0m\u001b[0;34m.\u001b[0m\u001b[0mpyplot\u001b[0m \u001b[0;32mas\u001b[0m \u001b[0mplt\u001b[0m\u001b[0;34m\u001b[0m\u001b[0m\n",
      "\u001b[0;31mImportError\u001b[0m: No module named dust"
     ]
    }
   ],
   "source": [
    "%matplotlib inline\n",
    "import dust\n",
    "from scatmodels import *\n",
    "from cmindex import *\n",
    "import matplotlib.pyplot as plt\n",
    "from astropy.io import ascii\n",
    "data = Mie()"
   ]
  },
  {
   "cell_type": "code",
   "execution_count": null,
   "metadata": {
    "collapsed": false,
    "scrolled": true
   },
   "outputs": [],
   "source": [
    "#Silicate dust grains with radius 0.1\n",
    "rad = 0.1\n",
    "\n",
    "#Wavelengths from 0.01 - 1 microns for ^\n",
    "tabl = ascii.read(\"draine_silicate0.1\")\n",
    "\n",
    "wavelengths = tabl[\"w(micron)\"]\n",
    "\n",
    "#Conversion from wavelength(micron) to energy(keV)\n",
    "print \"Energy conversion done\"\n",
    "energies = [1.2398/(w * 1.e3) for w in wavelengths]\n",
    "\n",
    "#Qsca\n",
    "print \"Qsca done\"\n",
    "scattering = []\n",
    "for num in energies:\n",
    "    scattering.append(data.Qsca(E = num, a = rad, cm = cmi.CmSilicate()))\n",
    "    \n",
    "#Qext\n",
    "print \"Qext done\"\n",
    "extinction = []\n",
    "for num in energies:\n",
    "    extinction.append(data.Qext(E = num, a = rad, cm = cmi.CmSilicate()))\n",
    "    \n",
    "#Qabs\n",
    "print \"Qabs done\"\n",
    "absorption = []\n",
    "for num in range(len(energies)):\n",
    "    absorption.append(float(extinction[num]-scattering[num]))"
   ]
  },
  {
   "cell_type": "code",
   "execution_count": null,
   "metadata": {
    "collapsed": false
   },
   "outputs": [],
   "source": [
    "plt.xlabel(\"Energy\", size = 12)\n",
    "plt.ylabel(\"Q\", size = 12)\n",
    "plt.plot(energies, scattering, \"r\", label = \"Q_sca\")\n",
    "plt.plot(energies, extinction, \"b\", label = \"Q_ext\")\n",
    "plt.plot(energies, absorption, \"g\", label = \"Q_abs\")\n",
    "plt.legend(loc = \"lower right\")\n",
    "plt.loglog()\n",
    "\n",
    "plt.show()"
   ]
  }
 ],
 "metadata": {
  "kernelspec": {
   "display_name": "Python 2",
   "language": "python",
   "name": "python2"
  },
  "language_info": {
   "codemirror_mode": {
    "name": "ipython",
    "version": 2
   },
   "file_extension": ".py",
   "mimetype": "text/x-python",
   "name": "python",
   "nbconvert_exporter": "python",
   "pygments_lexer": "ipython2",
   "version": "2.7.10"
  }
 },
 "nbformat": 4,
 "nbformat_minor": 0
}
