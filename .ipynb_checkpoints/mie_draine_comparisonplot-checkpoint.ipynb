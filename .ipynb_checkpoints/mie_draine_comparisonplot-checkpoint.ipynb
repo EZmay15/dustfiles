{
 "cells": [
  {
   "cell_type": "code",
   "execution_count": 1,
   "metadata": {
    "collapsed": false
   },
   "outputs": [],
   "source": [
    "import dust\n",
    "import numpy as np\n",
    "import matplotlib.pyplot as plt\n",
    "import matplotlib\n",
    "from astropy.io import ascii\n",
    "from pylab import ylim\n",
    "\n",
    "font = {'size'   : 15}\n",
    "matplotlib.rc('font', **font)"
   ]
  },
  {
   "cell_type": "code",
   "execution_count": null,
   "metadata": {
    "collapsed": false
   },
   "outputs": [],
   "source": [
    "import scatmodels as sm\n",
    "import cmindex as cm\n",
    "import constants as c"
   ]
  },
  {
   "cell_type": "code",
   "execution_count": null,
   "metadata": {
    "collapsed": false
   },
   "outputs": [],
   "source": [
    "mie_model = sm.Mie()"
   ]
  },
  {
   "cell_type": "code",
   "execution_count": null,
   "metadata": {
    "collapsed": false
   },
   "outputs": [],
   "source": [
    "GRAIN_RAD = 0.5\n",
    "tabl = ascii.read(\"draine-graphite0.5\")"
   ]
  },
  {
   "cell_type": "code",
   "execution_count": null,
   "metadata": {
    "collapsed": false,
    "scrolled": true
   },
   "outputs": [],
   "source": [
    "WAVEL_UVOPT  = tabl[\"w(micron)\"] # um, Draine's wavelengths\n",
    "ENERGY_UVOPT = c.kev2lam() / (WAVEL_UVOPT * 1.e-4) # keV\n",
    "\n",
    "HIGH_ENERGY  = np.linspace(0.1, 20.0, 30) # keV, 30 values between 0.1 and 20 keV "
   ]
  },
  {
   "cell_type": "markdown",
   "metadata": {},
   "source": [
    "Show efficiencies for UV/Optical wavelengths"
   ]
  },
  {
   "cell_type": "code",
   "execution_count": null,
   "metadata": {
    "collapsed": false
   },
   "outputs": [],
   "source": [
    "qext_uvopt_gra = mie_model.Qext( E=ENERGY_UVOPT, a=GRAIN_RAD, cm=cm.CmGraphite() )\n",
    "qsca_uvopt_gra = mie_model.Qsca( E=ENERGY_UVOPT, a=GRAIN_RAD, cm=cm.CmGraphite() )"
   ]
  },
  {
   "cell_type": "code",
   "execution_count": null,
   "metadata": {
    "collapsed": false
   },
   "outputs": [],
   "source": [
    "plt.plot( WAVEL_UVOPT, qext_uvopt_gra, 'b-', label='Q_ext - Mie' )\n",
    "plt.plot( WAVEL_UVOPT, qsca_uvopt_gra, 'r-', label='Q_sca - Mie' ) \n",
    "plt.plot( WAVEL_UVOPT, tabl[\"Q_abs\"] + tabl[\"Q_sca\"], \"g-\", label=\"Q_ext - Draine\")\n",
    "plt.plot( WAVEL_UVOPT, tabl[\"Q_sca\"], \"y-\", label=\"Q_sca - Draine\")\n",
    "\n",
    "plt.loglog()\n",
    "plt.xlabel('Wavelength [um]')\n",
    "plt.ylabel('Q')\n",
    "plt.legend(loc='lower left')\n",
    "plt.figure(figsize=(20,10))\n",
    "plt.show()"
   ]
  },
  {
   "cell_type": "markdown",
   "metadata": {},
   "source": [
    "Now do the high energy"
   ]
  },
  {
   "cell_type": "code",
   "execution_count": null,
   "metadata": {
    "collapsed": false
   },
   "outputs": [],
   "source": [
    "qext_high_sil = mie_model.Qext( E=HIGH_ENERGY, a=GRAIN_RAD, cm=cm.CmSilicate() )\n",
    "qsca_high_sil = mie_model.Qsca( E=HIGH_ENERGY, a=GRAIN_RAD, cm=cm.CmSilicate() )"
   ]
  },
  {
   "cell_type": "code",
   "execution_count": null,
   "metadata": {
    "collapsed": false
   },
   "outputs": [],
   "source": [
    "plt.plot( HIGH_ENERGY, qext_high_sil, 'b-', label='Q_ext - Mie' )\n",
    "plt.plot( HIGH_ENERGY, qsca_high_sil, 'r-', label='Q_sca - Mie' )\n",
    "\n",
    "plt.loglog()\n",
    "plt.xlabel('Energy [keV]')\n",
    "plt.ylabel('Q')\n",
    "plt.legend(loc='lower left')\n",
    "\n",
    "plt.show()"
   ]
  }
 ],
 "metadata": {
  "kernelspec": {
   "display_name": "Python 2",
   "language": "python",
   "name": "python2"
  },
  "language_info": {
   "codemirror_mode": {
    "name": "ipython",
    "version": 2
   },
   "file_extension": ".py",
   "mimetype": "text/x-python",
   "name": "python",
   "nbconvert_exporter": "python",
   "pygments_lexer": "ipython2",
   "version": "2.7.10"
  }
 },
 "nbformat": 4,
 "nbformat_minor": 0
}
