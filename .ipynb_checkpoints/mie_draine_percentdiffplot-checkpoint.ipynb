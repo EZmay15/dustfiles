{
 "cells": [
  {
   "cell_type": "code",
   "execution_count": 2,
   "metadata": {
    "collapsed": false
   },
   "outputs": [],
   "source": [
    "import dust\n",
    "import numpy as np\n",
    "import matplotlib.pyplot as plt\n",
    "import matplotlib\n",
    "from astropy.io import ascii\n",
    "from pylab import ylim\n",
    "\n",
    "font = {'size'   : 15}\n",
    "matplotlib.rc('font', **font)"
   ]
  },
  {
   "cell_type": "code",
   "execution_count": 3,
   "metadata": {
    "collapsed": false
   },
   "outputs": [
    {
     "ename": "ImportError",
     "evalue": "No module named scatmodels",
     "output_type": "error",
     "traceback": [
      "\u001b[0;31m---------------------------------------------------------------------------\u001b[0m",
      "\u001b[0;31mImportError\u001b[0m                               Traceback (most recent call last)",
      "\u001b[0;32m<ipython-input-3-05a6de08b401>\u001b[0m in \u001b[0;36m<module>\u001b[0;34m()\u001b[0m\n\u001b[0;32m----> 1\u001b[0;31m \u001b[0;32mimport\u001b[0m \u001b[0mscatmodels\u001b[0m \u001b[0;32mas\u001b[0m \u001b[0msm\u001b[0m\u001b[0;34m\u001b[0m\u001b[0m\n\u001b[0m\u001b[1;32m      2\u001b[0m \u001b[0;32mimport\u001b[0m \u001b[0mcmindex\u001b[0m \u001b[0;32mas\u001b[0m \u001b[0mcm\u001b[0m\u001b[0;34m\u001b[0m\u001b[0m\n\u001b[1;32m      3\u001b[0m \u001b[0;32mimport\u001b[0m \u001b[0mconstants\u001b[0m \u001b[0;32mas\u001b[0m \u001b[0mc\u001b[0m\u001b[0;34m\u001b[0m\u001b[0m\n",
      "\u001b[0;31mImportError\u001b[0m: No module named scatmodels"
     ]
    }
   ],
   "source": [
    "import scatmodels as sm\n",
    "import cmindex as cm\n",
    "import constants as c"
   ]
  },
  {
   "cell_type": "code",
   "execution_count": null,
   "metadata": {
    "collapsed": false
   },
   "outputs": [],
   "source": [
    "mie_model = sm.Mie()"
   ]
  },
  {
   "cell_type": "code",
   "execution_count": null,
   "metadata": {
    "collapsed": false
   },
   "outputs": [],
   "source": [
    "GRAIN_RAD = 0.5\n",
    "tabl = ascii.read(\"draine-graphite0.5\")"
   ]
  },
  {
   "cell_type": "code",
   "execution_count": null,
   "metadata": {
    "collapsed": false,
    "scrolled": true
   },
   "outputs": [],
   "source": [
    "WAVEL_UVOPT  = tabl[\"w(micron)\"] # um, Draine's wavelengths\n",
    "ENERGY_UVOPT = c.kev2lam() / (WAVEL_UVOPT * 1.e-4) # keV\n"
   ]
  },
  {
   "cell_type": "markdown",
   "metadata": {},
   "source": [
    "Efficiencies for UV/Optical wavelengths"
   ]
  },
  {
   "cell_type": "code",
   "execution_count": null,
   "metadata": {
    "collapsed": false
   },
   "outputs": [],
   "source": [
    "qext_uvopt_gra = mie_model.Qext( E=ENERGY_UVOPT, a=GRAIN_RAD, cm=cm.CmGraphite() )\n",
    "qsca_uvopt_gra = mie_model.Qsca( E=ENERGY_UVOPT, a=GRAIN_RAD, cm=cm.CmGraphite() )"
   ]
  },
  {
   "cell_type": "code",
   "execution_count": null,
   "metadata": {
    "collapsed": false
   },
   "outputs": [],
   "source": [
    "#For extinction and scattering in all the uv_opt plots, create graphs that \n",
    "#quantify the difference between the two models:\n",
    "\n",
    "#Percent difference = ( (Qext,Mie - Qext,Draine) / Qext,Draine ) x 100\n",
    "\n",
    "qext_percent_diff = []\n",
    "for i in range(len(tabl[\"w(micron)\"])):\n",
    "    value = ((qext_uvopt_gra[i] - (tabl[\"Q_abs\"][i] + tabl[\"Q_sca\"][i]))/\n",
    "            (tabl[\"Q_abs\"][i] + tabl[\"Q_sca\"][i])) * 100\n",
    "    qext_percent_diff.append(abs(value))\n",
    "    \n",
    "qsca_percent_diff = []\n",
    "for i in range(len(tabl[\"w(micron)\"])):\n",
    "    value = ((qsca_uvopt_gra[i] - (tabl[\"Q_sca\"][i]))/\n",
    "            (tabl[\"Q_sca\"][i])) * 100\n",
    "    qsca_percent_diff.append(abs(value))\n",
    "\n",
    "plt.plot( WAVEL_UVOPT, qext_percent_diff, 'b-', label = 'Q_ext')\n",
    "plt.plot( WAVEL_UVOPT, qsca_percent_diff, 'r-', label = 'Q_sca')\n",
    "\n",
    "plt.semilogx()\n",
    "pylab.ylim([-10,100])\n",
    "plt.xlabel('Wavelength [um]')\n",
    "plt.ylabel('Difference [%]')\n",
    "plt.legend(loc='upper center')\n",
    "plt.show()"
   ]
  }
 ],
 "metadata": {
  "kernelspec": {
   "display_name": "Python 2",
   "language": "python",
   "name": "python2"
  },
  "language_info": {
   "codemirror_mode": {
    "name": "ipython",
    "version": 2
   },
   "file_extension": ".py",
   "mimetype": "text/x-python",
   "name": "python",
   "nbconvert_exporter": "python",
   "pygments_lexer": "ipython2",
   "version": "2.7.10"
  }
 },
 "nbformat": 4,
 "nbformat_minor": 0
}
