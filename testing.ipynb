{
 "cells": [
  {
   "cell_type": "code",
   "execution_count": 1,
   "metadata": {
    "collapsed": false
   },
   "outputs": [
    {
     "name": "stdout",
     "output_type": "stream",
     "text": [
      "TESTMI CHECKPOINT 1/3\n",
      "TESTMI CHECKPOINT 3/3\n",
      "MIEV0 CHECKPOINT 1/9\n",
      "CKINMI CHECKPOINT 1/2\n",
      "CKINMI CHECKPOINT 2/2\n",
      "MIEV0 CHECKPOINT 2/9\n",
      "BIGA CHECKPOINT 1/4\n",
      "CONFRA CHECKPOINT 1/3\n",
      "CONFRA CHECKPOINT 3/3\n",
      "BIGA CHECKPOINT 2/4\n"
     ]
    },
    {
     "ename": "TypeError",
     "evalue": "unsupported operand type(s) for +: 'float' and 'NoneType'",
     "output_type": "error",
     "traceback": [
      "\u001b[0;31m---------------------------------------------------------------------------\u001b[0m",
      "\u001b[0;31mTypeError\u001b[0m                                 Traceback (most recent call last)",
      "\u001b[0;32m<ipython-input-1-e4bc73820771>\u001b[0m in \u001b[0;36m<module>\u001b[0;34m()\u001b[0m\n\u001b[1;32m    117\u001b[0m         print MIEV0( XX[ NXX ], CREFIN[ NIOR ], PERFCT, MIMCUT, ANYANG, NUMANG,\n\u001b[1;32m    118\u001b[0m                     \u001b[0mXMU\u001b[0m\u001b[0;34m,\u001b[0m \u001b[0mNMOM\u001b[0m\u001b[0;34m,\u001b[0m \u001b[0mIPOLZN\u001b[0m\u001b[0;34m[\u001b[0m \u001b[0mNXX\u001b[0m\u001b[0;34m,\u001b[0m \u001b[0mNIOR\u001b[0m \u001b[0;34m]\u001b[0m\u001b[0;34m,\u001b[0m \u001b[0mMOMDIM\u001b[0m\u001b[0;34m,\u001b[0m \u001b[0mPRNT\u001b[0m\u001b[0;34m,\u001b[0m \u001b[0mQEXT\u001b[0m\u001b[0;34m,\u001b[0m \u001b[0mQSCA\u001b[0m\u001b[0;34m,\u001b[0m\u001b[0;34m\u001b[0m\u001b[0m\n\u001b[0;32m--> 119\u001b[0;31m                     GQSC, PMOM, SFORW, SBACK, S1, S2, TFORW, TBACK, SPIKE )\n\u001b[0m\u001b[1;32m    120\u001b[0m \u001b[0;34m\u001b[0m\u001b[0m\n",
      "\u001b[0;32m/Users/Emily/Desktop/dustfiles/Wis_MIEV0noP.py\u001b[0m in \u001b[0;36mMIEV0\u001b[0;34m(XX, CREFIN, PERFCT, MIMCUT, ANYANG, NUMANG, XMU, NMOM, IPOLZN, MOMDIM, PRNT, QEXT, QSCA, GQSC, PMOM, SFORW, SBACK, S1, S2, TFORW, TBACK, SPIKE)\u001b[0m\n\u001b[1;32m    243\u001b[0m \u001b[0;34m\u001b[0m\u001b[0m\n\u001b[1;32m    244\u001b[0m             \u001b[0;32mif\u001b[0m \u001b[0;32mnot\u001b[0m \u001b[0mPERFCT\u001b[0m\u001b[0;34m:\u001b[0m\u001b[0;34m\u001b[0m\u001b[0m\n\u001b[0;32m--> 245\u001b[0;31m                 \u001b[0mBIGA\u001b[0m\u001b[0;34m(\u001b[0m \u001b[0mCIOR\u001b[0m\u001b[0;34m,\u001b[0m \u001b[0mXX\u001b[0m\u001b[0;34m,\u001b[0m \u001b[0mNTRM\u001b[0m\u001b[0;34m,\u001b[0m \u001b[0mNOABS\u001b[0m\u001b[0;34m,\u001b[0m \u001b[0mYESANG\u001b[0m\u001b[0;34m,\u001b[0m \u001b[0mRBIGA\u001b[0m\u001b[0;34m,\u001b[0m \u001b[0mCBIGA\u001b[0m \u001b[0;34m)\u001b[0m\u001b[0;34m\u001b[0m\u001b[0m\n\u001b[0m\u001b[1;32m    246\u001b[0m \u001b[0;34m\u001b[0m\u001b[0m\n\u001b[1;32m    247\u001b[0m             \u001b[0;31m#PRINT CHECKPOINT 3 OF 9 IN MIEV0\u001b[0m\u001b[0;34m\u001b[0m\u001b[0;34m\u001b[0m\u001b[0m\n",
      "\u001b[0;32m/Users/Emily/Desktop/dustfiles/Wis_MIEV0noP.py\u001b[0m in \u001b[0;36mBIGA\u001b[0;34m(CIOR, XX, NTRM, NOABS, YESANG, RBIGA, CBIGA)\u001b[0m\n\u001b[1;32m    717\u001b[0m             \u001b[0;32mfor\u001b[0m \u001b[0mN\u001b[0m \u001b[0;32min\u001b[0m \u001b[0mrange\u001b[0m\u001b[0;34m(\u001b[0m \u001b[0mNTRM\u001b[0m \u001b[0;34m-\u001b[0m \u001b[0;36m1\u001b[0m\u001b[0;34m,\u001b[0m \u001b[0;36m2\u001b[0m \u001b[0;34m-\u001b[0m \u001b[0;36m1\u001b[0m \u001b[0;34m-\u001b[0m \u001b[0;36m1\u001b[0m\u001b[0;34m,\u001b[0m \u001b[0;34m-\u001b[0m\u001b[0;36m1\u001b[0m \u001b[0;34m)\u001b[0m\u001b[0;34m:\u001b[0m\u001b[0;34m\u001b[0m\u001b[0m\n\u001b[1;32m    718\u001b[0m                 RBIGA[ N - 1 ] = ( (int(N) + 1)*REZINV ) - 1.0 / ( ( (int(N) + 1)*REZINV ) + \\\n\u001b[0;32m--> 719\u001b[0;31m                                                                    RBIGA[ N ] )\n\u001b[0m\u001b[1;32m    720\u001b[0m \u001b[0;34m\u001b[0m\u001b[0m\n\u001b[1;32m    721\u001b[0m         \u001b[0;32melse\u001b[0m\u001b[0;34m:\u001b[0m\u001b[0;34m\u001b[0m\u001b[0m\n",
      "\u001b[0;31mTypeError\u001b[0m: unsupported operand type(s) for +: 'float' and 'NoneType'"
     ]
    }
   ],
   "source": []
  },
  {
   "cell_type": "code",
   "execution_count": null,
   "metadata": {
    "collapsed": true
   },
   "outputs": [],
   "source": []
  }
 ],
 "metadata": {
  "kernelspec": {
   "display_name": "Python 2",
   "language": "python",
   "name": "python2"
  }
 },
 "nbformat": 4,
 "nbformat_minor": 0
}
